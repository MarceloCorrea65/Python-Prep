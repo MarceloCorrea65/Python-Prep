{
 "cells": [
  {
   "cell_type": "markdown",
   "metadata": {},
   "source": [
    "1) Crear una variable que contenga un elemento del conjunto de números enteros y luego imprimir por pantalla si es mayor o menor a cero"
   ]
  },
  {
   "cell_type": "code",
   "execution_count": 1,
   "metadata": {},
   "outputs": [
    {
     "name": "stdout",
     "output_type": "stream",
     "text": [
      "La variable es 0\n"
     ]
    }
   ],
   "source": [
    "var1 = -0\n",
    "if (var1>0):\n",
    "    print('la variable es mayor que 0')\n",
    "elif (var1<0):\n",
    "    print('La variable es menor que 0')\n",
    "else:\n",
    "    print('La variable es 0')"
   ]
  },
  {
   "cell_type": "markdown",
   "metadata": {},
   "source": [
    "2) Crear dos variables y un condicional que informe si son del mismo tipo de dato"
   ]
  },
  {
   "cell_type": "code",
   "execution_count": 13,
   "metadata": {},
   "outputs": [
    {
     "name": "stdout",
     "output_type": "stream",
     "text": [
      "Las variables son del mismo tipo\n"
     ]
    }
   ],
   "source": [
    "vari1 = 2\n",
    "vari2 = 2\n",
    "if (vari1==vari2):\n",
    "    print('Las variables son del mismo tipo')\n",
    "else:\n",
    "    print('Las variables son de distintos tipos')"
   ]
  },
  {
   "cell_type": "markdown",
   "metadata": {},
   "source": [
    "3) Para los valores enteros del 1 al 20, imprimir por pantalla si es par o impar"
   ]
  },
  {
   "cell_type": "code",
   "execution_count": 14,
   "metadata": {},
   "outputs": [
    {
     "name": "stdout",
     "output_type": "stream",
     "text": [
      "1 - impar\n",
      "2 - par\n",
      "3 - impar\n",
      "4 - par\n",
      "5 - impar\n",
      "6 - par\n",
      "7 - impar\n",
      "8 - par\n",
      "9 - impar\n",
      "10 - par\n",
      "11 - impar\n",
      "12 - par\n",
      "13 - impar\n",
      "14 - par\n",
      "15 - impar\n",
      "16 - par\n",
      "17 - impar\n",
      "18 - par\n",
      "19 - impar\n",
      "20 - par\n"
     ]
    }
   ],
   "source": [
    "for n in range(1, 21):\n",
    "    if (n%2==0):\n",
    "        print(str(n)+' - par' )\n",
    "    else:\n",
    "        print(str(n)+' - impar')"
   ]
  },
  {
   "cell_type": "markdown",
   "metadata": {},
   "source": [
    "4) En un ciclo for mostrar para los valores entre 0 y 5 el resultado de elevarlo a la potencia igual a 3"
   ]
  },
  {
   "cell_type": "code",
   "execution_count": 15,
   "metadata": {},
   "outputs": [
    {
     "name": "stdout",
     "output_type": "stream",
     "text": [
      "0\n",
      "1\n",
      "8\n",
      "27\n",
      "64\n",
      "125\n"
     ]
    }
   ],
   "source": [
    "for n in range(6):\n",
    "    print(n**3)"
   ]
  },
  {
   "cell_type": "markdown",
   "metadata": {},
   "source": [
    "5) Crear una variable que contenga un número entero y realizar un ciclo for la misma cantidad de ciclos"
   ]
  },
  {
   "cell_type": "code",
   "execution_count": 16,
   "metadata": {},
   "outputs": [
    {
     "name": "stdout",
     "output_type": "stream",
     "text": [
      "0\n",
      "1\n",
      "2\n",
      "3\n"
     ]
    }
   ],
   "source": [
    "cantidad = 4\n",
    "for n in range(cantidad):\n",
    "    print(n)"
   ]
  },
  {
   "cell_type": "markdown",
   "metadata": {},
   "source": [
    "6) Utilizar un ciclo while para realizar el factoreo de un número guardado en una variable, sólo si la variable contiene un número entero mayor a 0"
   ]
  },
  {
   "cell_type": "code",
   "execution_count": 15,
   "metadata": {},
   "outputs": [
    {
     "name": "stdout",
     "output_type": "stream",
     "text": [
      "El factorial de 3 es: 6\n"
     ]
    }
   ],
   "source": [
    "import math\n",
    "\n",
    "can = 3\n",
    "#print(math.factorial(can))\n",
    "if (can>=0 and int(can)==can):\n",
    "    fact = 1\n",
    "    factori = 1\n",
    "    while (fact <= can):\n",
    "        factori *= fact\n",
    "        fact += 1\n",
    "    print('El factorial de '+str(can)+' es: '+str(factori))\n",
    "else:\n",
    "    print('No se puede calcular el factorial')"
   ]
  },
  {
   "cell_type": "markdown",
   "metadata": {},
   "source": [
    "7) Crear un ciclo for dentro de un ciclo while"
   ]
  },
  {
   "cell_type": "code",
   "execution_count": 16,
   "metadata": {},
   "outputs": [
    {
     "name": "stdout",
     "output_type": "stream",
     "text": [
      "0\n",
      "1\n",
      "2\n",
      "1\n",
      "0\n",
      "1\n",
      "2\n",
      "2\n",
      "0\n",
      "1\n",
      "2\n",
      "3\n"
     ]
    }
   ],
   "source": [
    "suma = 3\n",
    "con = 0\n",
    "while (con < suma):\n",
    "    for i in range(suma):\n",
    "        print(i)\n",
    "    con += 1\n",
    "    print(con)"
   ]
  },
  {
   "cell_type": "markdown",
   "metadata": {},
   "source": [
    "8) Crear un ciclo while dentro de un ciclo for"
   ]
  },
  {
   "cell_type": "code",
   "execution_count": 20,
   "metadata": {},
   "outputs": [
    {
     "name": "stdout",
     "output_type": "stream",
     "text": [
      "0\n",
      "1\n",
      "2\n",
      "for 0\n",
      "0\n",
      "1\n",
      "2\n",
      "for 1\n",
      "0\n",
      "1\n",
      "2\n",
      "for 2\n"
     ]
    }
   ],
   "source": [
    "suma = 3\n",
    "con = 0\n",
    "for i in range(suma):\n",
    "    while (con < suma):\n",
    "        print(con)\n",
    "        con += 1\n",
    "    con = 0\n",
    "    print('for '+str(i))"
   ]
  },
  {
   "cell_type": "markdown",
   "metadata": {},
   "source": [
    "9) Imprimir los números primos existentes entre 0 y 30"
   ]
  },
  {
   "cell_type": "code",
   "execution_count": 3,
   "metadata": {},
   "outputs": [
    {
     "name": "stdout",
     "output_type": "stream",
     "text": [
      "El número 1 es primo\n",
      "El número 2 es primo\n",
      "El número 3 es primo\n",
      "El número 5 es primo\n",
      "El número 7 es primo\n",
      "El número 11 es primo\n",
      "El número 13 es primo\n",
      "El número 17 es primo\n",
      "El número 19 es primo\n",
      "El número 23 es primo\n",
      "El número 29 es primo\n"
     ]
    }
   ],
   "source": [
    "for i in range(1, 31):\n",
    "    primo = True\n",
    "    #print('pasada' +str(i))\n",
    "    for n in range(2, i):\n",
    "        if (i%n == 0):\n",
    "            primo = False\n",
    "            #print('primo')\n",
    "        #print(n%i)\n",
    "    if (primo == True):\n",
    "        print('El número '+str(i)+' es primo')\n",
    "        primo = True"
   ]
  },
  {
   "cell_type": "markdown",
   "metadata": {},
   "source": [
    "10) ¿Se puede mejorar el proceso del punto 9? Utilizar las sentencias break y/ó continue para tal fin"
   ]
  },
  {
   "cell_type": "code",
   "execution_count": 4,
   "metadata": {},
   "outputs": [
    {
     "name": "stdout",
     "output_type": "stream",
     "text": [
      "El número 1 es primo\n",
      "El número 2 es primo\n",
      "El número 3 es primo\n",
      "El número 5 es primo\n",
      "El número 7 es primo\n",
      "El número 11 es primo\n",
      "El número 13 es primo\n",
      "El número 17 es primo\n",
      "El número 19 es primo\n",
      "El número 23 es primo\n",
      "El número 29 es primo\n"
     ]
    }
   ],
   "source": [
    "for i in range(1, 31):\n",
    "    primo = True\n",
    "    for n in range(2, i):\n",
    "        if (i%n == 0):\n",
    "            primo = False\n",
    "            break\n",
    "    if (primo == True):\n",
    "        print('El número '+str(i)+' es primo')\n",
    "        primo = True"
   ]
  },
  {
   "cell_type": "markdown",
   "metadata": {},
   "source": [
    "11) En los puntos 9 y 10, se diseño un código que encuentra números primos y además se lo optimizó. ¿Es posible saber en qué medida se optimizó?"
   ]
  },
  {
   "cell_type": "code",
   "execution_count": 6,
   "metadata": {},
   "outputs": [
    {
     "name": "stdout",
     "output_type": "stream",
     "text": [
      "52\n",
      "19\n"
     ]
    }
   ],
   "source": [
    "ciclos1 = 0\n",
    "ciclos2 = 0\n",
    "for i in range(1, 31):\n",
    "    primo = True\n",
    "    for n in range(2, i):\n",
    "        if (i%n == 0):\n",
    "            primo = False\n",
    "            ciclos1 += 1\n",
    "    if (primo == True):\n",
    "        primo = True\n",
    "for i in range(1, 31):\n",
    "    primo = True\n",
    "    for n in range(2, i):\n",
    "        if (i%n == 0):\n",
    "            primo = False\n",
    "            ciclos2 += 1\n",
    "            break\n",
    "    if (primo == True):\n",
    "        primo = True\n",
    "print(ciclos1)\n",
    "print(ciclos2)"
   ]
  },
  {
   "cell_type": "markdown",
   "metadata": {},
   "source": [
    "12) Si la cantidad de números que se evalúa es mayor a treinta, esa optimización crece?"
   ]
  },
  {
   "cell_type": "code",
   "execution_count": 11,
   "metadata": {},
   "outputs": [
    {
     "name": "stdout",
     "output_type": "stream",
     "text": [
      "31 - 52 - 19\n",
      "32 - 52 - 19\n",
      "33 - 56 - 20\n",
      "34 - 58 - 21\n",
      "35 - 60 - 22\n",
      "36 - 62 - 23\n",
      "37 - 69 - 24\n",
      "38 - 69 - 24\n",
      "39 - 71 - 25\n",
      "40 - 73 - 26\n",
      "41 - 79 - 27\n",
      "42 - 79 - 27\n",
      "43 - 85 - 28\n",
      "44 - 85 - 28\n",
      "45 - 89 - 29\n",
      "46 - 93 - 30\n",
      "47 - 95 - 31\n",
      "48 - 95 - 31\n",
      "49 - 103 - 32\n"
     ]
    }
   ],
   "source": [
    "for h in range(1,50):\n",
    "    ciclos1 = 0\n",
    "    ciclos2 = 0\n",
    "    for i in range(1, h):\n",
    "        primo = True\n",
    "        for n in range(2, i):\n",
    "            if (i%n == 0):\n",
    "                primo = False\n",
    "                ciclos1 += 1\n",
    "        if (primo == True):\n",
    "            primo = True\n",
    "    for i in range(1, h):\n",
    "        primo = True\n",
    "        for n in range(2, i):\n",
    "            if (i%n == 0):\n",
    "                primo = False\n",
    "                ciclos2 += 1\n",
    "                break\n",
    "        if (primo == True):\n",
    "            primo = True\n",
    "    if (h>30):\n",
    "        print(str(h)+' - '+str(ciclos1)+' - '+ str(ciclos2))"
   ]
  },
  {
   "cell_type": "markdown",
   "metadata": {},
   "source": [
    "13) Aplicando continue, armar un ciclo while que solo imprima los valores divisibles por 12, dentro del rango de números de 100 a 300"
   ]
  },
  {
   "cell_type": "code",
   "execution_count": 12,
   "metadata": {},
   "outputs": [
    {
     "name": "stdout",
     "output_type": "stream",
     "text": [
      "El ńumero 108 es divisible por 12\n",
      "El ńumero 120 es divisible por 12\n",
      "El ńumero 132 es divisible por 12\n",
      "El ńumero 144 es divisible por 12\n",
      "El ńumero 156 es divisible por 12\n",
      "El ńumero 168 es divisible por 12\n",
      "El ńumero 180 es divisible por 12\n",
      "El ńumero 192 es divisible por 12\n",
      "El ńumero 204 es divisible por 12\n",
      "El ńumero 216 es divisible por 12\n",
      "El ńumero 228 es divisible por 12\n",
      "El ńumero 240 es divisible por 12\n",
      "El ńumero 252 es divisible por 12\n",
      "El ńumero 264 es divisible por 12\n",
      "El ńumero 276 es divisible por 12\n",
      "El ńumero 288 es divisible por 12\n",
      "El ńumero 300 es divisible por 12\n"
     ]
    }
   ],
   "source": [
    "n = 100\n",
    "while (n < 300):\n",
    "    n +=1\n",
    "    if(n % 12 != 0):\n",
    "        continue\n",
    "    print('El ńumero '+ str(n) + ' es divisible por 12')"
   ]
  },
  {
   "cell_type": "markdown",
   "metadata": {},
   "source": [
    "14) Utilizar la función **input()** que permite hacer ingresos por teclado, para encontrar números primos y dar la opción al usario de buscar el siguiente"
   ]
  },
  {
   "cell_type": "code",
   "execution_count": 6,
   "metadata": {},
   "outputs": [
    {
     "name": "stdout",
     "output_type": "stream",
     "text": [
      "El número 1 es primo\n",
      "ingrese [0] para terminar \n",
      "El número 2 es primo\n",
      "ingrese [0] para terminar \n",
      "El número 3 es primo\n",
      "ingrese [0] para terminar \n",
      "El número 5 es primo\n",
      "ingrese [0] para terminar \n",
      "El número 7 es primo\n",
      "ingrese [0] para terminar \n"
     ]
    }
   ],
   "source": [
    "entrada = ''\n",
    "for i in range(1, 31):\n",
    "    primo = True\n",
    "    for n in range(2, i):\n",
    "        if (i%n == 0):\n",
    "            primo = False\n",
    "            break\n",
    "    if (primo == True):\n",
    "        print('El número '+str(i)+' es primo')\n",
    "        primo = True\n",
    "        print('ingrese [0] para terminar ')\n",
    "        entrada = input()\n",
    "        if (entrada == '0'):\n",
    "            break\n"
   ]
  },
  {
   "cell_type": "markdown",
   "metadata": {},
   "source": [
    "15) Crear un ciclo while que encuentre dentro del rango de 100 a 300 el primer número divisible por 3 y además múltiplo de 6"
   ]
  },
  {
   "cell_type": "code",
   "execution_count": 7,
   "metadata": {},
   "outputs": [
    {
     "name": "stdout",
     "output_type": "stream",
     "text": [
      "El primer número es: 102\n"
     ]
    }
   ],
   "source": [
    "inicial = 100\n",
    "while (inicial < 301):\n",
    "    if (inicial%6 == 0):\n",
    "        print('El primer número es: ' + str(inicial))\n",
    "        break\n",
    "    inicial += 1"
   ]
  }
 ],
 "metadata": {
  "kernelspec": {
   "display_name": "Python 3.10.6 64-bit",
   "language": "python",
   "name": "python3"
  },
  "language_info": {
   "codemirror_mode": {
    "name": "ipython",
    "version": 3
   },
   "file_extension": ".py",
   "mimetype": "text/x-python",
   "name": "python",
   "nbconvert_exporter": "python",
   "pygments_lexer": "ipython3",
   "version": "3.10.6"
  },
  "orig_nbformat": 4,
  "vscode": {
   "interpreter": {
    "hash": "26de051ba29f2982a8de78e945f0abaf191376122a1563185a90213a26c5da77"
   }
  }
 },
 "nbformat": 4,
 "nbformat_minor": 2
}
