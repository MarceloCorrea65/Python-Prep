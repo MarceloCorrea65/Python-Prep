{
 "cells": [
  {
   "cell_type": "markdown",
   "metadata": {},
   "source": [
    "Flujos de Control"
   ]
  },
  {
   "cell_type": "markdown",
   "metadata": {},
   "source": [
    "1) Crear una variable que contenga un elemento del conjunto de números enteros y luego imprimir por pantalla si es mayor o menor a cero"
   ]
  },
  {
   "cell_type": "code",
   "execution_count": 4,
   "metadata": {},
   "outputs": [
    {
     "name": "stdout",
     "output_type": "stream",
     "text": [
      "El numero es igual a 0\n"
     ]
    }
   ],
   "source": [
    "var_entero = 0\n",
    "if (var_entero > 0):\n",
    "    print('El numero es mayor a 0')\n",
    "elif (var_entero < 0):\n",
    "    print('El número es menor que 0')\n",
    "else:\n",
    "    print('El numero es igual a 0')"
   ]
  },
  {
   "cell_type": "markdown",
   "metadata": {},
   "source": [
    "2) Crear dos variables y un condicional que informe si son del mismo tipo de dato"
   ]
  },
  {
   "cell_type": "code",
   "execution_count": 6,
   "metadata": {},
   "outputs": [
    {
     "name": "stdout",
     "output_type": "stream",
     "text": [
      "Ĺas variables son del mismo tipo\n"
     ]
    }
   ],
   "source": [
    "var_1 = 'str'\n",
    "var_2 = 9\n",
    "if (type(var_1) == type(var_2)):\n",
    "    print('Ĺas variables son del mismo tipo')\n",
    "else:\n",
    "    print('Las variables son de distinto tipo')"
   ]
  },
  {
   "cell_type": "markdown",
   "metadata": {},
   "source": [
    "3) Para los valores enteros del 1 al 20, imprimir por pantalla si es par o impar"
   ]
  },
  {
   "cell_type": "code",
   "execution_count": 10,
   "metadata": {},
   "outputs": [
    {
     "name": "stdout",
     "output_type": "stream",
     "text": [
      "1 es impar\n",
      "2 es par\n",
      "3 es impar\n",
      "4 es par\n",
      "5 es impar\n",
      "6 es par\n",
      "7 es impar\n",
      "8 es par\n",
      "9 es impar\n",
      "10 es par\n",
      "11 es impar\n",
      "12 es par\n",
      "13 es impar\n",
      "14 es par\n",
      "15 es impar\n",
      "16 es par\n",
      "17 es impar\n",
      "18 es par\n",
      "19 es impar\n",
      "20 es par\n"
     ]
    }
   ],
   "source": [
    "for n in range(1, 21):\n",
    "    if (n%2 == 0):\n",
    "        print(str(n) + ' es par')\n",
    "    else:\n",
    "        print(str(n) + ' es impar')"
   ]
  },
  {
   "cell_type": "markdown",
   "metadata": {},
   "source": [
    "4) En un ciclo for mostrar para los valores entre 0 y 5 el resultado de elevarlo a la potencia igual a 3"
   ]
  },
  {
   "cell_type": "code",
   "execution_count": 11,
   "metadata": {},
   "outputs": [
    {
     "name": "stdout",
     "output_type": "stream",
     "text": [
      "0\n",
      "1\n",
      "8\n",
      "27\n",
      "64\n",
      "125\n"
     ]
    }
   ],
   "source": [
    "for n in range(0, 6):\n",
    "    print(n**3)"
   ]
  },
  {
   "cell_type": "markdown",
   "metadata": {},
   "source": [
    "5) Crear una variable que contenga un número entero y realizar un ciclo for la misma cantidad de ciclos"
   ]
  },
  {
   "cell_type": "code",
   "execution_count": 12,
   "metadata": {},
   "outputs": [
    {
     "name": "stdout",
     "output_type": "stream",
     "text": [
      "1\n",
      "2\n",
      "3\n",
      "4\n",
      "5\n"
     ]
    }
   ],
   "source": [
    "var_01 = 5\n",
    "for n in range(1,var_01+1):\n",
    "    print(n)"
   ]
  },
  {
   "cell_type": "code",
   "execution_count": 50,
   "metadata": {},
   "outputs": [
    {
     "name": "stdout",
     "output_type": "stream",
     "text": [
      "El factorial de 8 es: 40320\n",
      "40320\n"
     ]
    }
   ],
   "source": [
    "var_02 = 8\n",
    "fact = 1\n",
    "if (var_02 > 0 and int(var_02) == var_02):\n",
    "    n = 1\n",
    "    while (n <= var_02):\n",
    "        fact *=n\n",
    "        n +=1\n",
    "    print('El factorial de ' + str(var_02) + ' es: ' + str(fact))\n",
    "    import math\n",
    "    print(math.factorial(var_02))\n",
    "else:\n",
    "    print('No es posible calcular el factorial')"
   ]
  },
  {
   "cell_type": "markdown",
   "metadata": {},
   "source": [
    "7) Crear un ciclo for dentro de un ciclo while"
   ]
  },
  {
   "cell_type": "code",
   "execution_count": 58,
   "metadata": {},
   "outputs": [
    {
     "name": "stdout",
     "output_type": "stream",
     "text": [
      "Pasada 1\n",
      "0\n",
      "1\n",
      "2\n",
      "3\n",
      "4\n",
      "Pasada 2\n",
      "0\n",
      "1\n",
      "2\n",
      "3\n",
      "4\n",
      "Pasada 3\n",
      "0\n",
      "1\n",
      "2\n",
      "3\n",
      "4\n",
      "Pasada 4\n",
      "0\n",
      "1\n",
      "2\n",
      "3\n",
      "4\n"
     ]
    }
   ],
   "source": [
    "n1 = 1\n",
    "while (n1 < 5):\n",
    "    print('Pasada ' + str(n1))\n",
    "    for n2 in range(0, 5):\n",
    "        print(n2)\n",
    "    n1 += 1"
   ]
  },
  {
   "cell_type": "markdown",
   "metadata": {},
   "source": [
    "8) Crear un ciclo while dentro de un ciclo for"
   ]
  },
  {
   "cell_type": "code",
   "execution_count": 61,
   "metadata": {},
   "outputs": [
    {
     "name": "stdout",
     "output_type": "stream",
     "text": [
      "Pasada 0\n",
      "1\n",
      "2\n",
      "3\n",
      "Pasada 1\n",
      "1\n",
      "2\n",
      "3\n",
      "Pasada 2\n",
      "1\n",
      "2\n",
      "3\n",
      "Pasada 3\n",
      "1\n",
      "2\n",
      "3\n",
      "Pasada 4\n",
      "1\n",
      "2\n",
      "3\n",
      "Pasada 5\n",
      "1\n",
      "2\n",
      "3\n",
      "Pasada 6\n",
      "1\n",
      "2\n",
      "3\n"
     ]
    }
   ],
   "source": [
    "for n in range(0, 7):\n",
    "    print('Pasada ' + str(n))\n",
    "    n1 = 1\n",
    "    while (n1 < 4):\n",
    "        print(n1)\n",
    "        n1 += 1"
   ]
  },
  {
   "cell_type": "markdown",
   "metadata": {},
   "source": [
    "9) Imprimir los números primos existentes entre 0 y 30"
   ]
  },
  {
   "cell_type": "code",
   "execution_count": 40,
   "metadata": {},
   "outputs": [
    {
     "name": "stdout",
     "output_type": "stream",
     "text": [
      "El número 1 es primo\n",
      "El número 2 es primo\n",
      "El número 3 es primo\n",
      "El número 5 es primo\n",
      "El número 7 es primo\n",
      "El número 11 es primo\n",
      "El número 13 es primo\n",
      "El número 17 es primo\n",
      "El número 19 es primo\n",
      "El número 23 es primo\n",
      "El número 29 es primo\n"
     ]
    }
   ],
   "source": [
    "primo = True\n",
    "for n1 in range (1, 31):\n",
    "    n3 = n1\n",
    "    for n2 in range(2, n3):\n",
    "        if( n3 % n2 == 0):\n",
    "            primo = False\n",
    "            # break\n",
    "    if(primo):\n",
    "        print('El número ' + str(n3) + ' es primo')\n",
    "    primo = True"
   ]
  },
  {
   "cell_type": "markdown",
   "metadata": {},
   "source": [
    "10) ¿Se puede mejorar el proceso del punto 9? Utilizar las sentencias break y/ó continue para tal fin"
   ]
  },
  {
   "cell_type": "code",
   "execution_count": 39,
   "metadata": {},
   "outputs": [
    {
     "name": "stdout",
     "output_type": "stream",
     "text": [
      "El número 1 es primo\n",
      "El número 2 es primo\n",
      "El número 3 es primo\n",
      "El número 5 es primo\n",
      "El número 7 es primo\n",
      "El número 11 es primo\n",
      "El número 13 es primo\n",
      "El número 17 es primo\n",
      "El número 19 es primo\n",
      "El número 23 es primo\n",
      "El número 29 es primo\n"
     ]
    }
   ],
   "source": [
    "primo = True\n",
    "for n1 in range (1, 31):\n",
    "    n3 = n1\n",
    "    for n2 in range(2, n3):\n",
    "        if( n3 % n2 == 0):\n",
    "            primo = False\n",
    "            break\n",
    "    if(primo):\n",
    "        print('El número ' + str(n3) + ' es primo')\n",
    "    primo = True"
   ]
  },
  {
   "cell_type": "markdown",
   "metadata": {},
   "source": [
    "11) En los puntos 9 y 10, se diseño un código que encuentra números primos y además se lo optimizó. ¿Es posible saber en qué medida se optimizó?"
   ]
  },
  {
   "cell_type": "code",
   "execution_count": 53,
   "metadata": {},
   "outputs": [
    {
     "name": "stdout",
     "output_type": "stream",
     "text": [
      "378\n"
     ]
    }
   ],
   "source": [
    "primo = True\n",
    "ciclos = 0\n",
    "for n1 in range (1, 31):\n",
    "    n3 = n1\n",
    "    for n2 in range(2, n3-1):\n",
    "        ciclos +=1\n",
    "        if( n3 % n2 == 0):\n",
    "            primo = False\n",
    "            # break\n",
    "    if(primo):\n",
    "        pass\n",
    "        # print('El número ' + str(n3) + ' es primo')\n",
    "    primo = True\n",
    "print(ciclos)"
   ]
  },
  {
   "cell_type": "code",
   "execution_count": 54,
   "metadata": {},
   "outputs": [
    {
     "name": "stdout",
     "output_type": "stream",
     "text": [
      "126\n"
     ]
    }
   ],
   "source": [
    "primo = True\n",
    "ciclos = 0\n",
    "for n1 in range (1, 31):\n",
    "    n3 = n1\n",
    "    for n2 in range(2, n3-1):\n",
    "        ciclos +=1\n",
    "        if( n3 % n2 == 0):\n",
    "            primo = False\n",
    "            break\n",
    "    if(primo):\n",
    "        pass\n",
    "        # print('El número ' + str(n3) + ' es primo')\n",
    "    primo = True\n",
    "    # ciclos +=1\n",
    "print(ciclos)"
   ]
  },
  {
   "cell_type": "markdown",
   "metadata": {},
   "source": [
    "12) Si la cantidad de números que se evalúa es mayor a treinta, esa optimización crece?"
   ]
  },
  {
   "cell_type": "code",
   "execution_count": 61,
   "metadata": {},
   "outputs": [
    {
     "name": "stdout",
     "output_type": "stream",
     "text": [
      "1108\n",
      "4656\n"
     ]
    }
   ],
   "source": [
    "primo = True\n",
    "ciclos = 0\n",
    "for n1 in range (1, 100):\n",
    "    n3 = n1\n",
    "    for n2 in range(2, n3-1):\n",
    "        ciclos +=1\n",
    "        if( n3 % n2 == 0):\n",
    "            primo = False\n",
    "            break\n",
    "    if(primo):\n",
    "        pass\n",
    "        # print('El número ' + str(n3) + ' es primo')\n",
    "    primo = True\n",
    "print(ciclos)\n",
    "\n",
    "primo = True\n",
    "ciclos = 0\n",
    "for n1 in range (1, 100):\n",
    "    n3 = n1\n",
    "    for n2 in range(2, n3-1):\n",
    "        ciclos +=1\n",
    "        if( n3 % n2 == 0):\n",
    "            primo = False\n",
    "            # break\n",
    "    if(primo):\n",
    "        pass\n",
    "        # print('El número ' + str(n3) + ' es primo')\n",
    "    primo = True\n",
    "print(ciclos)"
   ]
  },
  {
   "cell_type": "markdown",
   "metadata": {},
   "source": [
    "13) Aplicando continue, armar un ciclo while que solo imprima los valores divisibles por 12, dentro del rango de números de 100 a 300\n"
   ]
  },
  {
   "cell_type": "code",
   "execution_count": 68,
   "metadata": {},
   "outputs": [
    {
     "name": "stdout",
     "output_type": "stream",
     "text": [
      "El ńumero 108 es divisible por 12\n",
      "El ńumero 120 es divisible por 12\n",
      "El ńumero 132 es divisible por 12\n",
      "El ńumero 144 es divisible por 12\n",
      "El ńumero 156 es divisible por 12\n",
      "El ńumero 168 es divisible por 12\n",
      "El ńumero 180 es divisible por 12\n",
      "El ńumero 192 es divisible por 12\n",
      "El ńumero 204 es divisible por 12\n",
      "El ńumero 216 es divisible por 12\n",
      "El ńumero 228 es divisible por 12\n",
      "El ńumero 240 es divisible por 12\n",
      "El ńumero 252 es divisible por 12\n",
      "El ńumero 264 es divisible por 12\n",
      "El ńumero 276 es divisible por 12\n",
      "El ńumero 288 es divisible por 12\n",
      "El ńumero 300 es divisible por 12\n"
     ]
    }
   ],
   "source": [
    "n = 100\n",
    "while (n < 300):\n",
    "    n +=1\n",
    "    if(n % 12 != 0):\n",
    "        continue\n",
    "    print('El ńumero '+ str(n) + ' es divisible por 12')"
   ]
  },
  {
   "cell_type": "markdown",
   "metadata": {},
   "source": [
    "14) Utilizar la función **input()** que permite hacer ingresos por teclado, para encontrar números primos y dar la opción al usario de buscar el siguiente"
   ]
  },
  {
   "cell_type": "code",
   "execution_count": 16,
   "metadata": {},
   "outputs": [
    {
     "name": "stdout",
     "output_type": "stream",
     "text": [
      "El número 1  es primo\n",
      "¿Desea encontrar el siguiente número primo? (0 para terminar)\n",
      "El número 2  es primo\n",
      "¿Desea encontrar el siguiente número primo? (0 para terminar)\n",
      "El número 3  es primo\n",
      "¿Desea encontrar el siguiente número primo? (0 para terminar)\n",
      "El número 5  es primo\n",
      "¿Desea encontrar el siguiente número primo? (0 para terminar)\n",
      "El número 7  es primo\n",
      "¿Desea encontrar el siguiente número primo? (0 para terminar)\n",
      "El número 11  es primo\n",
      "¿Desea encontrar el siguiente número primo? (0 para terminar)\n",
      "El número 13  es primo\n",
      "¿Desea encontrar el siguiente número primo? (0 para terminar)\n"
     ]
    }
   ],
   "source": [
    "n2 = 1\n",
    "primo = True\n",
    "seguir = True\n",
    "while (seguir):\n",
    "    for n1 in range(2, n2):\n",
    "        if( n2 % n1 == 0):\n",
    "            primo = False\n",
    "            break\n",
    "    if(primo):\n",
    "        print('El número', n2 ,' es primo')\n",
    "        print('¿Desea encontrar el siguiente número primo? (0 para terminar)')\n",
    "        if (input() == '0'):\n",
    "            seguir = False\n",
    "            break\n",
    "    primo = True\n",
    "    n2 +=1"
   ]
  },
  {
   "cell_type": "markdown",
   "metadata": {},
   "source": [
    "15) Crear un ciclo while que encuentre dentro del rango de 100 a 300 el primer número divisible por 3 y además múltiplo de 6"
   ]
  },
  {
   "cell_type": "code",
   "execution_count": 33,
   "metadata": {},
   "outputs": [
    {
     "name": "stdout",
     "output_type": "stream",
     "text": [
      "El número 225 es divisible por 5 y múltiplo de 9\n"
     ]
    }
   ],
   "source": [
    "inicial = 200\n",
    "final = 300\n",
    "divisible = 5\n",
    "multiplo = 9\n",
    "while(inicial < final) :\n",
    "    n3 = inicial\n",
    "    for n3 in range(inicial, final+1):\n",
    "        if (inicial % divisible == 0):\n",
    "            for n6 in range(n3, final+1):\n",
    "                if (n3 % multiplo == 0):\n",
    "                    final = inicial\n",
    "                    print('El número',n3,'es divisible por',divisible,'y múltiplo de',multiplo)\n",
    "                break\n",
    "        break\n",
    "    inicial +=1\n"
   ]
  }
 ],
 "metadata": {
  "interpreter": {
   "hash": "e7370f93d1d0cde622a1f8e1c04877d8463912d04d973331ad4851f04de6915a"
  },
  "kernelspec": {
   "display_name": "Python 3.9.9 64-bit",
   "language": "python",
   "name": "python3"
  },
  "language_info": {
   "codemirror_mode": {
    "name": "ipython",
    "version": 3
   },
   "file_extension": ".py",
   "mimetype": "text/x-python",
   "name": "python",
   "nbconvert_exporter": "python",
   "pygments_lexer": "ipython3",
   "version": "3.9.9"
  },
  "orig_nbformat": 4
 },
 "nbformat": 4,
 "nbformat_minor": 2
}
