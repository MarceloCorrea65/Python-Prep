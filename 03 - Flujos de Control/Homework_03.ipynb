{
 "cells": [
  {
   "cell_type": "markdown",
   "metadata": {},
   "source": [
    "Flujos de Control"
   ]
  },
  {
   "cell_type": "markdown",
   "metadata": {},
   "source": [
    "1) Crear una variable que contenga un elemento del conjunto de números enteros y luego imprimir por pantalla si es mayor o menor a cero"
   ]
  },
  {
   "cell_type": "code",
   "execution_count": null,
   "metadata": {},
   "outputs": [],
   "source": [
    "var_entero = 0\n",
    "if (var_entero > 0):\n",
    "    print('El numero es mayor a 0')\n",
    "elif (var_entero < 0):\n",
    "    print('El número es menor que 0')\n",
    "else:\n",
    "    print('El numero es igual a 0')"
   ]
  },
  {
   "cell_type": "markdown",
   "metadata": {},
   "source": [
    "2) Crear dos variables y un condicional que informe si son del mismo tipo de dato"
   ]
  },
  {
   "cell_type": "code",
   "execution_count": null,
   "metadata": {},
   "outputs": [],
   "source": [
    "var_1 = 'str'\n",
    "var_2 = 9\n",
    "if (type(var_1) == type(var_2)):\n",
    "    print('Ĺas variables son del mismo tipo')\n",
    "else:\n",
    "    print('Las variables son de distinto tipo')"
   ]
  },
  {
   "cell_type": "markdown",
   "metadata": {},
   "source": [
    "3) Para los valores enteros del 1 al 20, imprimir por pantalla si es par o impar"
   ]
  },
  {
   "cell_type": "code",
   "execution_count": null,
   "metadata": {},
   "outputs": [],
   "source": [
    "for n in range(1, 21):\n",
    "    if (n%2 == 0):\n",
    "        print(str(n) + ' es par')\n",
    "    else:\n",
    "        print(str(n) + ' es impar')"
   ]
  },
  {
   "cell_type": "markdown",
   "metadata": {},
   "source": [
    "4) En un ciclo for mostrar para los valores entre 0 y 5 el resultado de elevarlo a la potencia igual a 3"
   ]
  },
  {
   "cell_type": "code",
   "execution_count": null,
   "metadata": {},
   "outputs": [],
   "source": [
    "for n in range(0, 6):\n",
    "    print(n**3)"
   ]
  },
  {
   "cell_type": "markdown",
   "metadata": {},
   "source": [
    "5) Crear una variable que contenga un número entero y realizar un ciclo for la misma cantidad de ciclos"
   ]
  },
  {
   "cell_type": "code",
   "execution_count": null,
   "metadata": {},
   "outputs": [],
   "source": [
    "var_01 = 5\n",
    "for n in range(1,var_01+1):\n",
    "    print(n)"
   ]
  },
  {
   "cell_type": "code",
   "execution_count": null,
   "metadata": {},
   "outputs": [],
   "source": [
    "var_02 = 8\n",
    "fact = 1\n",
    "if (var_02 > 0 and int(var_02) == var_02):\n",
    "    n = 1\n",
    "    while (n <= var_02):\n",
    "        fact *=n\n",
    "        n +=1\n",
    "    print('El factorial de ' + str(var_02) + ' es: ' + str(fact))\n",
    "    import math\n",
    "    print(math.factorial(var_02))\n",
    "else:\n",
    "    print('No es posible calcular el factorial')"
   ]
  },
  {
   "cell_type": "markdown",
   "metadata": {},
   "source": [
    "7) Crear un ciclo for dentro de un ciclo while"
   ]
  },
  {
   "cell_type": "code",
   "execution_count": null,
   "metadata": {},
   "outputs": [],
   "source": [
    "n1 = 1\n",
    "while (n1 < 5):\n",
    "    print('Pasada ' + str(n1))\n",
    "    for n2 in range(0, 5):\n",
    "        print(n2)\n",
    "    n1 += 1"
   ]
  },
  {
   "cell_type": "markdown",
   "metadata": {},
   "source": [
    "8) Crear un ciclo while dentro de un ciclo for"
   ]
  },
  {
   "cell_type": "code",
   "execution_count": null,
   "metadata": {},
   "outputs": [],
   "source": [
    "for n in range(0, 7):\n",
    "    print('Pasada ' + str(n))\n",
    "    n1 = 1\n",
    "    while (n1 < 4):\n",
    "        print(n1)\n",
    "        n1 += 1"
   ]
  },
  {
   "cell_type": "markdown",
   "metadata": {},
   "source": [
    "9) Imprimir los números primos existentes entre 0 y 30"
   ]
  },
  {
   "cell_type": "code",
   "execution_count": null,
   "metadata": {},
   "outputs": [],
   "source": [
    "primo = True\n",
    "for n1 in range (1, 31):\n",
    "    n3 = n1\n",
    "    for n2 in range(2, n3):\n",
    "        if( n3 % n2 == 0):\n",
    "            primo = False\n",
    "            # break\n",
    "    if(primo):\n",
    "        print('El número ' + str(n3) + ' es primo')\n",
    "    primo = True"
   ]
  },
  {
   "cell_type": "markdown",
   "metadata": {},
   "source": [
    "10) ¿Se puede mejorar el proceso del punto 9? Utilizar las sentencias break y/ó continue para tal fin"
   ]
  },
  {
   "cell_type": "code",
   "execution_count": null,
   "metadata": {},
   "outputs": [],
   "source": [
    "primo = True\n",
    "for n1 in range (1, 31):\n",
    "    n3 = n1\n",
    "    for n2 in range(2, n3):\n",
    "        if( n3 % n2 == 0):\n",
    "            primo = False\n",
    "            break\n",
    "    if(primo):\n",
    "        print('El número ' + str(n3) + ' es primo')\n",
    "    primo = True"
   ]
  },
  {
   "cell_type": "markdown",
   "metadata": {},
   "source": [
    "11) En los puntos 9 y 10, se diseño un código que encuentra números primos y además se lo optimizó. ¿Es posible saber en qué medida se optimizó?"
   ]
  },
  {
   "cell_type": "code",
   "execution_count": null,
   "metadata": {},
   "outputs": [],
   "source": [
    "primo = True\n",
    "ciclos = 0\n",
    "for n1 in range (1, 31):\n",
    "    n3 = n1\n",
    "    for n2 in range(2, n3-1):\n",
    "        ciclos +=1\n",
    "        if( n3 % n2 == 0):\n",
    "            primo = False\n",
    "            # break\n",
    "    if(primo):\n",
    "        pass\n",
    "        # print('El número ' + str(n3) + ' es primo')\n",
    "    primo = True\n",
    "print(ciclos)"
   ]
  },
  {
   "cell_type": "markdown",
   "metadata": {},
   "source": [
    "12) Si la cantidad de números que se evalúa es mayor a treinta, esa optimización crece?"
   ]
  },
  {
   "cell_type": "code",
   "execution_count": null,
   "metadata": {},
   "outputs": [],
   "source": [
    "primo = True\n",
    "ciclos = 0\n",
    "for n1 in range (1, 100):\n",
    "    n3 = n1\n",
    "    for n2 in range(2, n3-1):\n",
    "        ciclos +=1\n",
    "        if( n3 % n2 == 0):\n",
    "            primo = False\n",
    "            break\n",
    "    if(primo):\n",
    "        pass\n",
    "        # print('El número ' + str(n3) + ' es primo')\n",
    "    primo = True\n",
    "print(ciclos)\n",
    "\n",
    "primo = True\n",
    "ciclos = 0\n",
    "for n1 in range (1, 100):\n",
    "    n3 = n1\n",
    "    for n2 in range(2, n3-1):\n",
    "        ciclos +=1\n",
    "        if( n3 % n2 == 0):\n",
    "            primo = False\n",
    "            # break\n",
    "    if(primo):\n",
    "        pass\n",
    "        # print('El número ' + str(n3) + ' es primo')\n",
    "    primo = True\n",
    "print(ciclos)"
   ]
  },
  {
   "cell_type": "markdown",
   "metadata": {},
   "source": [
    "13) Aplicando continue, armar un ciclo while que solo imprima los valores divisibles por 12, dentro del rango de números de 100 a 300\n"
   ]
  },
  {
   "cell_type": "code",
   "execution_count": null,
   "metadata": {},
   "outputs": [],
   "source": [
    "n = 100\n",
    "while (n < 300):\n",
    "    n +=1\n",
    "    if(n % 12 != 0):\n",
    "        continue\n",
    "    print('El ńumero '+ str(n) + ' es divisible por 12')"
   ]
  },
  {
   "cell_type": "markdown",
   "metadata": {},
   "source": [
    "14) Utilizar la función **input()** que permite hacer ingresos por teclado, para encontrar números primos y dar la opción al usario de buscar el siguiente"
   ]
  },
  {
   "cell_type": "code",
   "execution_count": null,
   "metadata": {},
   "outputs": [],
   "source": [
    "n2 = 1\n",
    "primo = True\n",
    "seguir = True\n",
    "while (seguir):\n",
    "    for n1 in range(2, n2):\n",
    "        if( n2 % n1 == 0):\n",
    "            primo = False\n",
    "            break\n",
    "    if(primo):\n",
    "        print('El número', n2 ,' es primo')\n",
    "        print('¿Desea encontrar el siguiente número primo? (0 para terminar)')\n",
    "        if (input() == '0'):\n",
    "            seguir = False\n",
    "            break\n",
    "    primo = True\n",
    "    n2 +=1"
   ]
  },
  {
   "cell_type": "markdown",
   "metadata": {},
   "source": [
    "15) Crear un ciclo while que encuentre dentro del rango de 100 a 300 el primer número divisible por 3 y además múltiplo de 6"
   ]
  },
  {
   "cell_type": "code",
   "execution_count": null,
   "metadata": {},
   "outputs": [],
   "source": [
    "inicial = 200\n",
    "final = 300\n",
    "divisible = 5\n",
    "multiplo = 9\n",
    "while(inicial < final) :\n",
    "    n3 = inicial\n",
    "    for n3 in range(inicial, final+1):\n",
    "        if (inicial % divisible == 0):\n",
    "            for n6 in range(n3, final+1):\n",
    "                if (n3 % multiplo == 0):\n",
    "                    final = inicial\n",
    "                    print('El número',n3,'es divisible por',divisible,'y múltiplo de',multiplo)\n",
    "                break\n",
    "        break\n",
    "    inicial +=1\n"
   ]
  }
 ],
 "metadata": {
  "interpreter": {
   "hash": "e7370f93d1d0cde622a1f8e1c04877d8463912d04d973331ad4851f04de6915a"
  },
  "kernelspec": {
   "display_name": "Python 3.9.9 64-bit",
   "language": "python",
   "name": "python3"
  },
  "language_info": {
   "codemirror_mode": {
    "name": "ipython",
    "version": 3
   },
   "file_extension": ".py",
   "mimetype": "text/x-python",
   "name": "python",
   "nbconvert_exporter": "python",
   "pygments_lexer": "ipython3",
   "version": "3.9.9"
  },
  "orig_nbformat": 4
 },
 "nbformat": 4,
 "nbformat_minor": 2
}
